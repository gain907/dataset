{
  "nbformat": 4,
  "nbformat_minor": 0,
  "metadata": {
    "colab": {
      "provenance": []
    },
    "kernelspec": {
      "name": "python3",
      "display_name": "Python 3"
    },
    "language_info": {
      "name": "python"
    }
  },
  "cells": [
    {
      "cell_type": "code",
      "execution_count": null,
      "metadata": {
        "id": "Cis0ifTOM7bX"
      },
      "outputs": [],
      "source": [
        "# 데이터 나누기 (training / test set )\n",
        "from sklearn.model_selection import train_test_split\n",
        "X_train, X_test, Y_train, Y_test = train_test_split(data, target, test_size=0.2, random_state=10)"
      ]
    },
    {
      "cell_type": "code",
      "source": [
        "from tensorflow.keras import Sequential\n",
        "from tensorflow.keras.layers import Dense\n",
        "\n",
        "model = Sequential()\n",
        "\n",
        "# 첫 번째 레이어는 입력층이면서 히든레이어 임 그래서 차원을 입력 해야함\n",
        "model.add(Dense(30,  input_dim=12, activation='relu'))\n",
        "model.add(Dense(12, activation='relu'))\n",
        "model.add(Dense(8, activation='relu'))\n",
        "model.add(Dense(1, activation='sigmoid')) # 여러개 일때 softmax\n",
        "\n",
        "model.summary()"
      ],
      "metadata": {
        "id": "EBVK8KTbNLPS"
      },
      "execution_count": null,
      "outputs": []
    },
    {
      "cell_type": "code",
      "source": [
        "model.compile(loss='binary_crossentropy', optimizer='Adam', metrics=['Accuracy'])"
      ],
      "metadata": {
        "id": "-YMqK1FJNolq"
      },
      "execution_count": null,
      "outputs": []
    },
    {
      "cell_type": "code",
      "source": [
        "h = model.fit(X_train, Y_train,epochs=30, validation_data=(X_test, Y_test), batch_size=256)"
      ],
      "metadata": {
        "id": "KfPbGINwNycj"
      },
      "execution_count": null,
      "outputs": []
    }
  ]
}