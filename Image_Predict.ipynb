{
  "nbformat": 4,
  "nbformat_minor": 0,
  "metadata": {
    "colab": {
      "provenance": []
    },
    "kernelspec": {
      "name": "python3",
      "display_name": "Python 3"
    },
    "language_info": {
      "name": "python"
    }
  },
  "cells": [
    {
      "cell_type": "code",
      "execution_count": null,
      "metadata": {
        "id": "sltaOTY4gMpA"
      },
      "outputs": [],
      "source": [
        "import cv2\n",
        "import numpy as np\n",
        "\n",
        "img = cv2.imread('/content/test/10005.jpg')\n",
        "img = \n",
        "img = cv2.resize(img,(64,64))\n",
        "img = np.reshape(img,[1,64,64,3])\n",
        "\n",
        "classes = save_model.predict(img)\n",
        "# 고양이 :0  강아지:1\n",
        "labels = ['고양이', '강아지']\n",
        "\n",
        "label = labels[ 1 if classes > 0.5 else 0]\n",
        "print('결과', label, classes)\n",
        "\n",
        "#confidence = classes if classes > 0.5 else 1 - classes\n",
        "#print(label, confidence)\n",
        "\n",
        "#print('결과', classes)"
      ]
    }
  ]
}