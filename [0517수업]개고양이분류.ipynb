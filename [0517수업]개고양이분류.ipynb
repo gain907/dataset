{
  "nbformat": 4,
  "nbformat_minor": 0,
  "metadata": {
    "colab": {
      "provenance": [],
      "machine_shape": "hm",
      "gpuType": "V100"
    },
    "kernelspec": {
      "name": "python3",
      "display_name": "Python 3"
    },
    "language_info": {
      "name": "python"
    },
    "accelerator": "GPU",
    "gpuClass": "standard"
  },
  "cells": [
    {
      "cell_type": "code",
      "execution_count": 1,
      "metadata": {
        "colab": {
          "base_uri": "https://localhost:8080/"
        },
        "id": "qRhhXdsXksqu",
        "outputId": "0a3441c6-c879-4ff9-f65e-48ce330dfb4c"
      },
      "outputs": [
        {
          "output_type": "stream",
          "name": "stdout",
          "text": [
            "Warning: Your Kaggle API key is readable by other users on this system! To fix this, you can run 'chmod 600 /content/kaggle.json'\n",
            "Downloading dogs-vs-cats-redux-kernels-edition.zip to /content\n",
            "100% 813M/814M [00:28<00:00, 23.6MB/s]\n",
            "100% 814M/814M [00:28<00:00, 29.8MB/s]\n"
          ]
        }
      ],
      "source": [
        "#kaggle competitions download -c dogs-vs-cats-redux-kernels-edition\n",
        "import os\n",
        "os.environ['KAGGLE_CONFIG_DIR'] = '/content/'\n",
        "!kaggle competitions download -c dogs-vs-cats-redux-kernels-edition"
      ]
    },
    {
      "cell_type": "code",
      "source": [
        "# 파일 이름 dogs-vs-cats-redux-kernels-edition.zip\n",
        "# 압축풀기\n",
        "!unzip -q dogs-vs-cats-redux-kernels-edition.zip -d ."
      ],
      "metadata": {
        "id": "hnk0TluCnN_f"
      },
      "execution_count": 2,
      "outputs": []
    },
    {
      "cell_type": "code",
      "source": [
        "!unzip -q train.zip -d ."
      ],
      "metadata": {
        "id": "BpdpIx7NoLjR"
      },
      "execution_count": 3,
      "outputs": []
    },
    {
      "cell_type": "markdown",
      "source": [
        "### dog.12480.jpg\n",
        "### cat.6883.jpg"
      ],
      "metadata": {
        "id": "CnsQ6CJVotqX"
      }
    },
    {
      "cell_type": "code",
      "source": [
        "# 이미지 갯수 알아보기\n",
        "\n",
        "print(len(os.listdir('/content/train/') ) )"
      ],
      "metadata": {
        "colab": {
          "base_uri": "https://localhost:8080/"
        },
        "id": "djeLTCT7odK3",
        "outputId": "5fc786b1-c707-42b3-a18a-17daf04e11af"
      },
      "execution_count": 4,
      "outputs": [
        {
          "output_type": "stream",
          "name": "stdout",
          "text": [
            "25000\n"
          ]
        }
      ]
    },
    {
      "cell_type": "markdown",
      "source": [
        "### 이미지를 숫자로 변화 시키기\n",
        "dataset/cat/고양이 파일\n",
        "dataset/dog/강아지 파일"
      ],
      "metadata": {
        "id": "O6Rc60eLpWK4"
      }
    },
    {
      "cell_type": "code",
      "source": [
        "import os\n",
        "\n",
        "# 개 고양이 폴더 나눠주기\n",
        "os.mkdir('/content/dataset')\n",
        "os.mkdir('/content/dataset/cat')\n",
        "os.mkdir('/content/dataset/dog')\n"
      ],
      "metadata": {
        "id": "fRRACSolpJvg"
      },
      "execution_count": 5,
      "outputs": []
    },
    {
      "cell_type": "code",
      "source": [
        "# 파일 이름이 'cat'이름 있으면 cat 폴더로 복사해 주세요\n",
        "# 파일 이름이 'dog'이름 있으면 dog 폴더로 복사해 주세요\n",
        "# dog.12480.jpg / cat.6883.jpg\n",
        "import shutil\n",
        "\n",
        "for i in os.listdir('/content/train/'):\n",
        "    # i = cat.12480.jpg\n",
        "    if 'cat' in i:\n",
        "      # 저기로 옮겨주세요\n",
        "      # (어떤파일을 ,어떤경로로)\n",
        "      # '/content/train/' + i => /content/train/ cat.12480.jpg\n",
        "      shutil.copyfile('/content/train/' + i, '/content/dataset/cat/' + i)\n",
        "    if 'dog' in i:      \n",
        "      shutil.copyfile('/content/train/' + i, '/content/dataset/dog/' + i)\n"
      ],
      "metadata": {
        "id": "fE_RjRoUqPUn"
      },
      "execution_count": 6,
      "outputs": []
    },
    {
      "cell_type": "code",
      "source": [],
      "metadata": {
        "id": "_LzWKy-BxHQm"
      },
      "execution_count": null,
      "outputs": []
    },
    {
      "cell_type": "markdown",
      "source": [
        "## 이미지를 숫자로 바꿔주는 함수\n",
        "\n",
        "### train_ds 저장형태\n",
        "### ((),())\n",
        "### ((이미지숫자변환형태), (답지))\n",
        "### X_test,Y_test"
      ],
      "metadata": {
        "id": "qk9E91mtwlw-"
      }
    },
    {
      "cell_type": "code",
      "source": [
        "# training  =  training , validation\n",
        "import tensorflow as tf\n",
        "\n",
        "train_ds = tf.keras.preprocessing.image_dataset_from_directory(\n",
        "          '/content/dataset/', # 저장 경로 지정\n",
        "          image_size=(64,64),  # 이미지사이즈\n",
        "          batch_size = 64, # 2만개 한꺼번에 안 넣고 64개씩 가져오겠다\n",
        "          # validation 할려면 추가\n",
        "          subset = 'training',\n",
        "          validation_split=0.2, # 20% 쪼개기\n",
        "          seed = 1234 # shupple\n",
        ")\n",
        "\n",
        "val_ds = tf.keras.preprocessing.image_dataset_from_directory(\n",
        "          '/content/dataset/', # 저장 경로 지정\n",
        "          image_size=(64,64),  # 이미지사이즈\n",
        "          batch_size = 64,\n",
        "          # validation 할려면 추가\n",
        "          subset = 'validation',\n",
        "          validation_split=0.2, # 20% 쪼개기\n",
        "          seed = 1234 # shupple\n",
        ")"
      ],
      "metadata": {
        "colab": {
          "base_uri": "https://localhost:8080/"
        },
        "id": "Bmr96GEhvuQm",
        "outputId": "8df7a5e4-111b-4c74-e5cc-7f0e2d3ac48c"
      },
      "execution_count": 7,
      "outputs": [
        {
          "output_type": "stream",
          "name": "stdout",
          "text": [
            "Found 25000 files belonging to 2 classes.\n",
            "Using 20000 files for training.\n",
            "Found 25000 files belonging to 2 classes.\n",
            "Using 5000 files for validation.\n"
          ]
        }
      ]
    },
    {
      "cell_type": "code",
      "source": [
        "train_ds"
      ],
      "metadata": {
        "colab": {
          "base_uri": "https://localhost:8080/"
        },
        "id": "I6KKgsXQ0JiA",
        "outputId": "607b651e-c5d2-477d-c85b-1cae936a1368"
      },
      "execution_count": 8,
      "outputs": [
        {
          "output_type": "execute_result",
          "data": {
            "text/plain": [
              "<_BatchDataset element_spec=(TensorSpec(shape=(None, 64, 64, 3), dtype=tf.float32, name=None), TensorSpec(shape=(None,), dtype=tf.int32, name=None))>"
            ]
          },
          "metadata": {},
          "execution_count": 8
        }
      ]
    },
    {
      "cell_type": "code",
      "source": [
        "# ((1,2,3,4),(1))   -> 문제,답\n",
        "# train_ds = (X_test, Y_test)\n",
        "# X_test, Y_test"
      ],
      "metadata": {
        "id": "p0uJLJojacpf"
      },
      "execution_count": null,
      "outputs": []
    },
    {
      "cell_type": "code",
      "source": [
        "import matplotlib.pyplot as plt\n",
        "\n",
        "\n",
        "for i, 정답 in train_ds.take(1):\n",
        "    print(i)\n",
        "    print(정답)\n",
        "    plt.imshow(i[1].numpy().astype('uint8'))\n",
        "    plt.show()\n"
      ],
      "metadata": {
        "colab": {
          "base_uri": "https://localhost:8080/",
          "height": 1000
        },
        "id": "TNr_O4b60KS3",
        "outputId": "3baa7994-9f3f-44fe-898d-f5818e1e77b0"
      },
      "execution_count": 9,
      "outputs": [
        {
          "output_type": "stream",
          "name": "stdout",
          "text": [
            "tf.Tensor(\n",
            "[[[[ 21.483887     7.4838867    6.4838867 ]\n",
            "   [ 20.109375     6.109375     5.109375  ]\n",
            "   [ 23.484375    12.484375     8.484375  ]\n",
            "   ...\n",
            "   [ 17.111816     6.0180664    2.0493164 ]\n",
            "   [ 19.           5.           4.        ]\n",
            "   [  1.0019531    2.0493164    1.0019531 ]]\n",
            "\n",
            "  [[ 25.779785    12.779785     6.779785  ]\n",
            "   [ 30.413086    17.413086    11.413086  ]\n",
            "   [ 16.805176     9.805176     3.8051758 ]\n",
            "   ...\n",
            "   [ 18.03125      6.9375       2.96875   ]\n",
            "   [ 17.79248      3.7924805    2.7924805 ]\n",
            "   [  0.89208984   2.9233398    1.2983398 ]]\n",
            "\n",
            "  [[ 24.40625     11.40625      3.40625   ]\n",
            "   [ 24.890625    11.890625     3.890625  ]\n",
            "   [ 20.14746     16.86621     10.003418  ]\n",
            "   ...\n",
            "   [ 18.305664     6.894043     3.03125   ]\n",
            "   [ 19.220703     5.477051     4.3916016 ]\n",
            "   [  2.1875       4.085449     2.5048828 ]]\n",
            "\n",
            "  ...\n",
            "\n",
            "  [[100.663086    83.785645    61.475586  ]\n",
            "   [118.79492     97.79492     67.01367   ]\n",
            "   [138.11621    118.99121     88.92871   ]\n",
            "   ...\n",
            "   [118.75342     75.69092     22.628418  ]\n",
            "   [ 94.41797     53.41797      1.9824219 ]\n",
            "   [112.38965     76.46777     14.170898  ]]\n",
            "\n",
            "  [[123.629395   103.223145    75.626465  ]\n",
            "   [131.12744    107.12744     69.65869   ]\n",
            "   [126.390625   111.265625    80.203125  ]\n",
            "   ...\n",
            "   [115.64502     74.64502     18.64502   ]\n",
            "   [115.67334     73.89209     23.45459   ]\n",
            "   [114.04639     77.60889     20.671387  ]]\n",
            "\n",
            "  [[127.831055   108.93994     80.50244   ]\n",
            "   [137.93896    120.53125     85.90625   ]\n",
            "   [ 96.61279     79.23535     46.146484  ]\n",
            "   ...\n",
            "   [115.328125    75.234375    16.448242  ]\n",
            "   [102.53955     71.53955     15.195801  ]\n",
            "   [ 93.69385     59.834473    14.240723  ]]]\n",
            "\n",
            "\n",
            " [[[ 54.12256     61.27661     54.2688    ]\n",
            "   [ 66.21924     89.63208     73.87012   ]\n",
            "   [ 59.845215    77.71704     61.71704   ]\n",
            "   ...\n",
            "   [142.3982     185.7107     129.55444   ]\n",
            "   [130.15625    172.46875    122.3125    ]\n",
            "   [129.4978     174.4978     119.4978    ]]\n",
            "\n",
            "  [[ 63.818848    83.4126      69.66504   ]\n",
            "   [ 41.828857    64.30591     46.567383  ]\n",
            "   [ 45.608643    68.461914    47.16162   ]\n",
            "   ...\n",
            "   [134.61938    173.61938    116.619385  ]\n",
            "   [129.31934    167.58081    116.05786   ]\n",
            "   [124.072754   169.07275    114.072754  ]]\n",
            "\n",
            "  [[ 68.39209     88.86401     72.028076  ]\n",
            "   [ 65.05786     74.63599     58.14038   ]\n",
            "   [ 98.12207    112.06714     91.028076  ]\n",
            "   ...\n",
            "   [120.96875    170.40625    105.1875    ]\n",
            "   [116.02466    164.46216    106.24341   ]\n",
            "   [120.151855   165.15186    110.151855  ]]\n",
            "\n",
            "  ...\n",
            "\n",
            "  [[139.99365    119.88745    102.83276   ]\n",
            "   [140.34814    119.78906     98.13281   ]\n",
            "   [150.59277    129.15527    112.45215   ]\n",
            "   ...\n",
            "   [156.19238    162.07446    148.98877   ]\n",
            "   [157.28247    166.3789     145.27905   ]\n",
            "   [150.52075    152.427      135.8645    ]]\n",
            "\n",
            "  [[125.70166    104.70166     85.70166   ]\n",
            "   [110.798096    89.798096    70.798096  ]\n",
            "   [160.08154    139.08154    120.08154   ]\n",
            "   ...\n",
            "   [158.43799    165.43799    149.43799   ]\n",
            "   [ 86.61792     99.910645    79.55542   ]\n",
            "   [124.96973    131.96973    113.96973   ]]\n",
            "\n",
            "  [[128.85498    107.85498     88.85498   ]\n",
            "   [109.89795     88.89795     69.89795   ]\n",
            "   [150.30298    129.30298    110.30298   ]\n",
            "   ...\n",
            "   [162.34644    169.16675    151.8855    ]\n",
            "   [125.73828    138.26172    121.907715  ]\n",
            "   [142.37085    151.8396     132.68335   ]]]\n",
            "\n",
            "\n",
            " [[[ 53.512695    92.50488     73.53613   ]\n",
            "   [ 53.28711     93.28711     69.240234  ]\n",
            "   [ 40.632812    79.2334      62.509766  ]\n",
            "   ...\n",
            "   [ 49.890625    83.85156     59.007812  ]\n",
            "   [ 32.929688    64.319336    55.15039   ]\n",
            "   [ 40.89453     74.90234     47.8584    ]]\n",
            "\n",
            "  [[ 41.802734    80.79492     62.833984  ]\n",
            "   [ 63.50293    102.52637     81.40918   ]\n",
            "   [ 28.104492    66.09961     51.510742  ]\n",
            "   ...\n",
            "   [ 25.374023    59.33496     35.45215   ]\n",
            "   [  1.8320312   31.623047    18.495117  ]\n",
            "   [ 14.144531    48.152344    21.376953  ]]\n",
            "\n",
            "  [[  5.038086    43.03125     28.083008  ]\n",
            "   [ 17.236328    56.239258    37.183594  ]\n",
            "   [  3.8466797   40.966797    30.083984  ]\n",
            "   ...\n",
            "   [ 23.18164     56.18164     35.18164   ]\n",
            "   [ 15.317383    48.317383    29.317383  ]\n",
            "   [ 16.641602    50.393555    25.37793   ]]\n",
            "\n",
            "  ...\n",
            "\n",
            "  [[182.60449    202.60449    213.60449   ]\n",
            "   [164.0957     184.0957     195.0957    ]\n",
            "   [145.9336     164.9336     178.9336    ]\n",
            "   ...\n",
            "   [ 27.59375     33.59375     33.59375   ]\n",
            "   [ 48.561523    52.51465     51.467773  ]\n",
            "   [ 32.229492    33.229492    28.229492  ]]\n",
            "\n",
            "  [[161.96289    178.21289    193.96289   ]\n",
            "   [151.16895    167.41895    182.29395   ]\n",
            "   [159.60059    176.6914     187.04395   ]\n",
            "   ...\n",
            "   [ 14.791992    20.791992    20.791992  ]\n",
            "   [ 36.637695    40.59082     39.543945  ]\n",
            "   [ 35.876953    36.876953    31.876953  ]]\n",
            "\n",
            "  [[168.43457    183.43457    202.44434   ]\n",
            "   [146.45996    162.45996    177.45996   ]\n",
            "   [130.79199    147.79199    155.87012   ]\n",
            "   ...\n",
            "   [ 29.623047    35.623047    35.623047  ]\n",
            "   [ 31.308594    35.26172     34.214844  ]\n",
            "   [ 31.767578    32.76758     27.767578  ]]]\n",
            "\n",
            "\n",
            " ...\n",
            "\n",
            "\n",
            " [[[ 79.59375     85.59375     83.59375   ]\n",
            "   [ 79.          85.          83.        ]\n",
            "   [ 77.          83.          81.        ]\n",
            "   ...\n",
            "   [185.79688    184.79688    164.79688   ]\n",
            "   [189.         184.         165.        ]\n",
            "   [188.86719    183.86719    164.86719   ]]\n",
            "\n",
            "  [[ 77.78125     83.78125     81.78125   ]\n",
            "   [ 77.42114     83.42114     81.42114   ]\n",
            "   [ 75.          81.          79.        ]\n",
            "   ...\n",
            "   [186.15869    185.15869    164.15869   ]\n",
            "   [189.         184.         164.        ]\n",
            "   [191.82007    186.82007    166.82007   ]]\n",
            "\n",
            "  [[ 75.79468     81.79468     79.79468   ]\n",
            "   [ 76.52222     82.52222     80.52222   ]\n",
            "   [ 74.203125    80.203125    78.203125  ]\n",
            "   ...\n",
            "   [183.09839    183.09839    159.03589   ]\n",
            "   [188.96875    184.         161.90625   ]\n",
            "   [188.60938    183.64062    161.54688   ]]\n",
            "\n",
            "  ...\n",
            "\n",
            "  [[249.41968    255.         254.97437   ]\n",
            "   [154.03125    142.1875     105.34375   ]\n",
            "   [158.16089    149.93604    114.02026   ]\n",
            "   ...\n",
            "   [115.20947    126.10791    112.4126    ]\n",
            "   [158.74341    177.74341    158.74341   ]\n",
            "   [162.40967    178.8706     161.0503    ]]\n",
            "\n",
            "  [[251.92163    254.56201    254.92139   ]\n",
            "   [151.88208    138.7749     102.352295  ]\n",
            "   [156.56128    146.35815    109.99634   ]\n",
            "   ...\n",
            "   [101.203125   112.10156     98.40625   ]\n",
            "   [158.89062    177.89062    158.89062   ]\n",
            "   [159.70312    176.16406    158.34375   ]]\n",
            "\n",
            "  [[250.7185     254.82031    246.7185    ]\n",
            "   [137.21118    124.28931     98.28931   ]\n",
            "   [137.25       133.25        98.046875  ]\n",
            "   ...\n",
            "   [ 88.06372     99.06372     83.266846  ]\n",
            "   [155.094      173.094      160.01587   ]\n",
            "   [161.57788    169.2185     154.3982    ]]]\n",
            "\n",
            "\n",
            " [[[ 63.50714     54.93683     37.077454  ]\n",
            "   [ 75.33594     66.765625    48.90625   ]\n",
            "   [ 83.85156     72.85156     50.851562  ]\n",
            "   ...\n",
            "   [112.13507    109.13507     74.13507   ]\n",
            "   [106.3067     106.3067      70.3067    ]\n",
            "   [100.96875    100.96875     64.96875   ]]\n",
            "\n",
            "  [[ 77.6817      70.6817      41.6817    ]\n",
            "   [ 74.90625     67.90625     38.90625   ]\n",
            "   [ 88.84149     78.84149     51.84149   ]\n",
            "   ...\n",
            "   [112.83923    109.83923     76.828125  ]\n",
            "   [110.83771    110.83771     74.83771   ]\n",
            "   [104.46295    104.46295     68.46295   ]]\n",
            "\n",
            "  [[ 79.953125    72.10156     48.65625   ]\n",
            "   [ 81.703125    73.703125    50.703125  ]\n",
            "   [ 91.141785    82.141785    53.141785  ]\n",
            "   ...\n",
            "   [120.344604   117.05005     86.1817    ]\n",
            "   [114.62274    114.17743     78.32587   ]\n",
            "   [106.933044   106.48773     70.63617   ]]\n",
            "\n",
            "  ...\n",
            "\n",
            "  [[ 28.56018     23.381592    17.881592  ]\n",
            "   [ 29.703796    29.870117    21.963867  ]\n",
            "   [ 20.421875    21.273438    13.2734375 ]\n",
            "   ...\n",
            "   [ 18.550354    28.519104    20.565979  ]\n",
            "   [ 15.880554    21.880554    19.880554  ]\n",
            "   [ 15.703125    21.703125    19.703125  ]]\n",
            "\n",
            "  [[ 20.716492    17.28302     17.704895  ]\n",
            "   [ 18.396667    20.396667    18.818542  ]\n",
            "   [ 20.710938    22.710938    19.132812  ]\n",
            "   ...\n",
            "   [ 14.015625    18.992188    13.03125   ]\n",
            "   [ 13.767395    15.767395    14.767395  ]\n",
            "   [ 14.421875    16.421875    15.421875  ]]\n",
            "\n",
            "  [[ 19.6875      17.6875      18.6875    ]\n",
            "   [ 16.150452    14.150452    15.150452  ]\n",
            "   [ 16.97992     20.97992     21.97992   ]\n",
            "   ...\n",
            "   [ 12.4765625   17.4375      13.453125  ]\n",
            "   [ 16.          17.          12.        ]\n",
            "   [ 16.429688    17.429688    12.4296875 ]]]\n",
            "\n",
            "\n",
            " [[[151.5268     157.5268     154.32367   ]\n",
            "   [149.27924    154.27924    157.27924   ]\n",
            "   [139.27228    146.98883    146.42853   ]\n",
            "   ...\n",
            "   [129.08588    131.06244    128.06354   ]\n",
            "   [118.5567     118.5567     118.5567    ]\n",
            "   [133.11005    137.11005    138.90692   ]]\n",
            "\n",
            "  [[168.4851     174.4851     171.28198   ]\n",
            "   [144.8125     149.8125     152.8125    ]\n",
            "   [127.97186    133.97186    133.97186   ]\n",
            "   ...\n",
            "   [118.47015    120.44672    117.43109   ]\n",
            "   [114.682495   115.682495   110.682495  ]\n",
            "   [122.507324   126.507324   126.36267   ]]\n",
            "\n",
            "  [[157.04242    163.48773    160.31476   ]\n",
            "   [141.76685    146.61841    149.32153   ]\n",
            "   [149.5075     155.19733    153.35242   ]\n",
            "   ...\n",
            "   [116.14526    117.83624    114.94446   ]\n",
            "   [115.12952    116.42639    108.57483   ]\n",
            "   [132.02118    136.96204    131.43634   ]]\n",
            "\n",
            "  ...\n",
            "\n",
            "  [[114.66632    128.66632    128.66632   ]\n",
            "   [ 93.26807    107.26807    107.26807   ]\n",
            "   [136.06653    145.3634     150.21497   ]\n",
            "   ...\n",
            "   [126.63281    135.6684     132.98871   ]\n",
            "   [118.699646   130.25433    130.99652   ]\n",
            "   [ 54.960632    61.40149     61.678284  ]]\n",
            "\n",
            "  [[ 89.42969    103.42969    103.42969   ]\n",
            "   [131.97968    145.97968    145.97968   ]\n",
            "   [119.41406    129.41406    130.41406   ]\n",
            "   ...\n",
            "   [ 71.992676    82.98938     77.032776  ]\n",
            "   [124.0249     130.18115    134.15771   ]\n",
            "   [ 65.777954    67.0141      71.35986   ]]\n",
            "\n",
            "  [[100.41028    106.69153    109.121216  ]\n",
            "   [135.34125    137.09302    135.55194   ]\n",
            "   [138.68402    148.68402    147.68402   ]\n",
            "   ...\n",
            "   [ 70.93323     79.894165    86.925415  ]\n",
            "   [130.53809    136.53809    134.92871   ]\n",
            "   [ 66.541504    73.34619     75.74463   ]]]], shape=(64, 64, 64, 3), dtype=float32)\n",
            "tf.Tensor(\n",
            "[1 1 1 1 1 1 1 0 1 0 1 0 0 1 0 1 0 0 1 1 1 0 1 1 1 0 0 0 0 1 1 0 0 0 1 1 0\n",
            " 1 1 0 0 1 1 0 1 0 1 1 1 1 1 1 1 1 1 0 1 1 0 1 0 0 0 1], shape=(64,), dtype=int32)\n"
          ]
        },
        {
          "output_type": "display_data",
          "data": {
            "text/plain": [
              "<Figure size 640x480 with 1 Axes>"
            ],
            "image/png": "[encoded data removed]"
          },
          "metadata": {}
        }
      ]
    },
    {
      "cell_type": "markdown",
      "source": [
        "## 모델생성"
      ],
      "metadata": {
        "id": "dbVobxf8bVaz"
      }
    },
    {
      "cell_type": "code",
      "source": [
        "# Input_shape = (64,64,3) 1:흑백,3:칼러\n",
        "# Conv2D 몇개 사용? 필터사이즈?(3,3) CNN       \n",
        "# MaxPooling2D 필터사이즈(2,2) 몇개 사용?  CNN  \n",
        "# Dropout 얼마나?  CNN\n",
        "# Flatten 어디에?  \n",
        "# Dense는 몇개?  --> MLP\n",
        "# 마지막 출력은 어떤형식? sigmoid? categori?\n",
        "\n",
        "# summary\n",
        "\n",
        "# compile\n",
        "\n",
        "# fit  - callbacks? , "
      ],
      "metadata": {
        "id": "qFdZjv4V2vPn"
      },
      "execution_count": null,
      "outputs": []
    },
    {
      "cell_type": "code",
      "source": [
        "model = tf.keras.Sequential([\n",
        "        \n",
        "    tf.keras.layers.Conv2D(32,(3,3), padding='same', activation = 'relu', input_shape=(64,64,3)),\n",
        "    tf.keras.layers.MaxPooling2D((2,2)),\n",
        "    tf.keras.layers.Conv2D(64,(3,3), padding='same', activation = 'relu'),\n",
        "    tf.keras.layers.MaxPooling2D((2,2)),    \n",
        "    tf.keras.layers.Dropout(0.2),\n",
        "    tf.keras.layers.Flatten(),\n",
        "    ## MLP\n",
        "    tf.keras.layers.Dense(64, activation='relu'),\n",
        "    tf.keras.layers.Dense(1, activation='sigmoid')      \n",
        "])\n",
        "model.summary()"
      ],
      "metadata": {
        "colab": {
          "base_uri": "https://localhost:8080/"
        },
        "id": "vUOJ7A-0exag",
        "outputId": "28ec45b7-965f-435f-d711-e6c63a16a50c"
      },
      "execution_count": 11,
      "outputs": [
        {
          "output_type": "stream",
          "name": "stdout",
          "text": [
            "Model: \"sequential_1\"\n",
            "_________________________________________________________________\n",
            " Layer (type)                Output Shape              Param #   \n",
            "=================================================================\n",
            " conv2d_2 (Conv2D)           (None, 64, 64, 32)        896       \n",
            "                                                                 \n",
            " max_pooling2d_2 (MaxPooling  (None, 32, 32, 32)       0         \n",
            " 2D)                                                             \n",
            "                                                                 \n",
            " conv2d_3 (Conv2D)           (None, 32, 32, 64)        18496     \n",
            "                                                                 \n",
            " max_pooling2d_3 (MaxPooling  (None, 16, 16, 64)       0         \n",
            " 2D)                                                             \n",
            "                                                                 \n",
            " dropout_1 (Dropout)         (None, 16, 16, 64)        0         \n",
            "                                                                 \n",
            " flatten_1 (Flatten)         (None, 16384)             0         \n",
            "                                                                 \n",
            " dense_2 (Dense)             (None, 64)                1048640   \n",
            "                                                                 \n",
            " dense_3 (Dense)             (None, 1)                 65        \n",
            "                                                                 \n",
            "=================================================================\n",
            "Total params: 1,068,097\n",
            "Trainable params: 1,068,097\n",
            "Non-trainable params: 0\n",
            "_________________________________________________________________\n"
          ]
        }
      ]
    },
    {
      "cell_type": "code",
      "source": [
        "model.compile(loss='binary_crossentropy', optimizer='adam', metrics=['accuracy'])"
      ],
      "metadata": {
        "id": "CU0FNhG3f5rq"
      },
      "execution_count": 12,
      "outputs": []
    },
    {
      "cell_type": "code",
      "source": [
        "h1 = model.fit(train_ds,  validation_data = val_ds, batch_size=128, epochs=5)"
      ],
      "metadata": {
        "colab": {
          "base_uri": "https://localhost:8080/"
        },
        "id": "fGm8WE8ThaP-",
        "outputId": "0fcaa585-2073-4a61-93ad-89b2b2d76c73"
      },
      "execution_count": 14,
      "outputs": [
        {
          "output_type": "stream",
          "name": "stdout",
          "text": [
            "Epoch 1/50\n",
            "313/313 [==============================] - 11s 34ms/step - loss: 0.6325 - accuracy: 0.6234 - val_loss: 0.6690 - val_accuracy: 0.6050\n",
            "Epoch 2/50\n",
            "313/313 [==============================] - 11s 33ms/step - loss: 0.6017 - accuracy: 0.6562 - val_loss: 0.6801 - val_accuracy: 0.6072\n",
            "Epoch 3/50\n",
            "313/313 [==============================] - 11s 34ms/step - loss: 0.5733 - accuracy: 0.6838 - val_loss: 0.6786 - val_accuracy: 0.6226\n",
            "Epoch 4/50\n",
            "313/313 [==============================] - 10s 32ms/step - loss: 0.5295 - accuracy: 0.7099 - val_loss: 0.7283 - val_accuracy: 0.6288\n",
            "Epoch 5/50\n",
            "313/313 [==============================] - 11s 33ms/step - loss: 0.4925 - accuracy: 0.7459 - val_loss: 0.7243 - val_accuracy: 0.6592\n",
            "Epoch 6/50\n",
            "313/313 [==============================] - 11s 34ms/step - loss: 0.4516 - accuracy: 0.7699 - val_loss: 0.8471 - val_accuracy: 0.6450\n",
            "Epoch 7/50\n",
            "313/313 [==============================] - 11s 35ms/step - loss: 0.4096 - accuracy: 0.8000 - val_loss: 0.8092 - val_accuracy: 0.6594\n",
            "Epoch 8/50\n",
            "313/313 [==============================] - 11s 35ms/step - loss: 0.3698 - accuracy: 0.8213 - val_loss: 0.8338 - val_accuracy: 0.6628\n",
            "Epoch 9/50\n",
            "313/313 [==============================] - 11s 34ms/step - loss: 0.3336 - accuracy: 0.8444 - val_loss: 0.9213 - val_accuracy: 0.6716\n",
            "Epoch 10/50\n",
            "313/313 [==============================] - 11s 34ms/step - loss: 0.2981 - accuracy: 0.8688 - val_loss: 0.9232 - val_accuracy: 0.6632\n",
            "Epoch 11/50\n",
            "313/313 [==============================] - 10s 32ms/step - loss: 0.2753 - accuracy: 0.8763 - val_loss: 0.9827 - val_accuracy: 0.6662\n",
            "Epoch 12/50\n",
            "313/313 [==============================] - 11s 33ms/step - loss: 0.2379 - accuracy: 0.8939 - val_loss: 1.0999 - val_accuracy: 0.6668\n",
            "Epoch 13/50\n",
            "313/313 [==============================] - 11s 33ms/step - loss: 0.2201 - accuracy: 0.9043 - val_loss: 1.1716 - val_accuracy: 0.6582\n",
            "Epoch 14/50\n",
            "313/313 [==============================] - 10s 33ms/step - loss: 0.2047 - accuracy: 0.9153 - val_loss: 1.1427 - val_accuracy: 0.6676\n",
            "Epoch 15/50\n",
            "313/313 [==============================] - 11s 33ms/step - loss: 0.1901 - accuracy: 0.9229 - val_loss: 1.3240 - val_accuracy: 0.6552\n",
            "Epoch 16/50\n",
            "313/313 [==============================] - 11s 33ms/step - loss: 0.1786 - accuracy: 0.9275 - val_loss: 1.2768 - val_accuracy: 0.6660\n",
            "Epoch 17/50\n",
            "313/313 [==============================] - 10s 32ms/step - loss: 0.1512 - accuracy: 0.9384 - val_loss: 1.2844 - val_accuracy: 0.6882\n",
            "Epoch 18/50\n",
            "313/313 [==============================] - 11s 34ms/step - loss: 0.1649 - accuracy: 0.9377 - val_loss: 1.2720 - val_accuracy: 0.6832\n",
            "Epoch 19/50\n",
            "313/313 [==============================] - 11s 33ms/step - loss: 0.1354 - accuracy: 0.9488 - val_loss: 1.3393 - val_accuracy: 0.6828\n",
            "Epoch 20/50\n",
            "313/313 [==============================] - 11s 33ms/step - loss: 0.1428 - accuracy: 0.9449 - val_loss: 1.3585 - val_accuracy: 0.6758\n",
            "Epoch 21/50\n",
            "313/313 [==============================] - 11s 33ms/step - loss: 0.1255 - accuracy: 0.9517 - val_loss: 1.4431 - val_accuracy: 0.6634\n",
            "Epoch 22/50\n",
            "313/313 [==============================] - 11s 33ms/step - loss: 0.1166 - accuracy: 0.9573 - val_loss: 1.5334 - val_accuracy: 0.6588\n",
            "Epoch 23/50\n",
            "313/313 [==============================] - 11s 33ms/step - loss: 0.1100 - accuracy: 0.9579 - val_loss: 1.5625 - val_accuracy: 0.6828\n",
            "Epoch 24/50\n",
            "313/313 [==============================] - 10s 31ms/step - loss: 0.1035 - accuracy: 0.9618 - val_loss: 1.7251 - val_accuracy: 0.6668\n",
            "Epoch 25/50\n",
            "313/313 [==============================] - 11s 34ms/step - loss: 0.0962 - accuracy: 0.9654 - val_loss: 1.6599 - val_accuracy: 0.6698\n",
            "Epoch 26/50\n",
            "313/313 [==============================] - 11s 34ms/step - loss: 0.0971 - accuracy: 0.9657 - val_loss: 1.5875 - val_accuracy: 0.6766\n",
            "Epoch 27/50\n",
            "313/313 [==============================] - 11s 33ms/step - loss: 0.0920 - accuracy: 0.9663 - val_loss: 1.6068 - val_accuracy: 0.6734\n",
            "Epoch 28/50\n",
            "313/313 [==============================] - 11s 33ms/step - loss: 0.1060 - accuracy: 0.9639 - val_loss: 1.5738 - val_accuracy: 0.6808\n",
            "Epoch 29/50\n",
            "313/313 [==============================] - 11s 35ms/step - loss: 0.0819 - accuracy: 0.9707 - val_loss: 1.6155 - val_accuracy: 0.6784\n",
            "Epoch 30/50\n",
            "313/313 [==============================] - 11s 33ms/step - loss: 0.0668 - accuracy: 0.9759 - val_loss: 1.8474 - val_accuracy: 0.6656\n",
            "Epoch 31/50\n",
            "313/313 [==============================] - 10s 31ms/step - loss: 0.0917 - accuracy: 0.9698 - val_loss: 1.7096 - val_accuracy: 0.6800\n",
            "Epoch 32/50\n",
            "313/313 [==============================] - 11s 33ms/step - loss: 0.0828 - accuracy: 0.9725 - val_loss: 1.6839 - val_accuracy: 0.6794\n",
            "Epoch 33/50\n",
            "313/313 [==============================] - 11s 33ms/step - loss: 0.0724 - accuracy: 0.9766 - val_loss: 1.8118 - val_accuracy: 0.6814\n",
            "Epoch 34/50\n",
            "313/313 [==============================] - 11s 33ms/step - loss: 0.0728 - accuracy: 0.9753 - val_loss: 1.7778 - val_accuracy: 0.6784\n",
            "Epoch 35/50\n",
            "313/313 [==============================] - 11s 33ms/step - loss: 0.0565 - accuracy: 0.9808 - val_loss: 1.8979 - val_accuracy: 0.6850\n",
            "Epoch 36/50\n",
            "313/313 [==============================] - 11s 33ms/step - loss: 0.0807 - accuracy: 0.9751 - val_loss: 1.8326 - val_accuracy: 0.6898\n",
            "Epoch 37/50\n",
            "313/313 [==============================] - 10s 32ms/step - loss: 0.0627 - accuracy: 0.9796 - val_loss: 2.0398 - val_accuracy: 0.6742\n",
            "Epoch 38/50\n",
            "313/313 [==============================] - 11s 33ms/step - loss: 0.0723 - accuracy: 0.9765 - val_loss: 1.7772 - val_accuracy: 0.6840\n",
            "Epoch 39/50\n",
            "313/313 [==============================] - 11s 34ms/step - loss: 0.0641 - accuracy: 0.9806 - val_loss: 1.7677 - val_accuracy: 0.6892\n",
            "Epoch 40/50\n",
            "313/313 [==============================] - 11s 34ms/step - loss: 0.0502 - accuracy: 0.9833 - val_loss: 1.8682 - val_accuracy: 0.6870\n",
            "Epoch 41/50\n",
            "313/313 [==============================] - 11s 33ms/step - loss: 0.0534 - accuracy: 0.9826 - val_loss: 1.9472 - val_accuracy: 0.6866\n",
            "Epoch 42/50\n",
            "313/313 [==============================] - 11s 33ms/step - loss: 0.0606 - accuracy: 0.9808 - val_loss: 1.7900 - val_accuracy: 0.6870\n",
            "Epoch 43/50\n",
            "313/313 [==============================] - 11s 33ms/step - loss: 0.0610 - accuracy: 0.9804 - val_loss: 1.9251 - val_accuracy: 0.6746\n",
            "Epoch 44/50\n",
            "313/313 [==============================] - 11s 33ms/step - loss: 0.0486 - accuracy: 0.9844 - val_loss: 1.9985 - val_accuracy: 0.6766\n",
            "Epoch 45/50\n",
            "313/313 [==============================] - 11s 33ms/step - loss: 0.0444 - accuracy: 0.9857 - val_loss: 2.0095 - val_accuracy: 0.6840\n",
            "Epoch 46/50\n",
            "313/313 [==============================] - 11s 33ms/step - loss: 0.0565 - accuracy: 0.9812 - val_loss: 2.2041 - val_accuracy: 0.6760\n",
            "Epoch 47/50\n",
            "313/313 [==============================] - 11s 33ms/step - loss: 0.0487 - accuracy: 0.9841 - val_loss: 2.2013 - val_accuracy: 0.6884\n",
            "Epoch 48/50\n",
            "313/313 [==============================] - 11s 34ms/step - loss: 0.0616 - accuracy: 0.9807 - val_loss: 1.9233 - val_accuracy: 0.6918\n",
            "Epoch 49/50\n",
            "313/313 [==============================] - 10s 31ms/step - loss: 0.0469 - accuracy: 0.9848 - val_loss: 2.0909 - val_accuracy: 0.6858\n",
            "Epoch 50/50\n",
            "313/313 [==============================] - 11s 34ms/step - loss: 0.0478 - accuracy: 0.9847 - val_loss: 2.1980 - val_accuracy: 0.6928\n"
          ]
        }
      ]
    },
    {
      "cell_type": "code",
      "source": [
        "import matplotlib.pyplot as plt\n",
        "plt.figure(figsize=(15,5))\n",
        "\n",
        "plt.plot(h1.history['val_loss'],\n",
        "        label = 'val_loss')\n",
        "\n",
        "plt.plot(h1.history['loss'],\n",
        "        label = 'loss')\n",
        "\n",
        "plt.legend()\n",
        "plt.grid()\n",
        "plt.show()"
      ],
      "metadata": {
        "colab": {
          "base_uri": "https://localhost:8080/",
          "height": 275
        },
        "id": "5OuI5viJnlqs",
        "outputId": "e41ab748-8671-4b0e-b335-10d160ba2afc"
      },
      "execution_count": 15,
      "outputs": [
        {
          "output_type": "display_data",
          "data": {
            "text/plain": [
              "<Figure size 1500x500 with 1 Axes>"
            ],
            "image/png": "[encoded data removed]"
          },
          "metadata": {}
        }
      ]
    },
    {
      "cell_type": "code",
      "source": [
        "import matplotlib.pyplot as plt\n",
        "plt.figure(figsize=(15,5))\n",
        "\n",
        "plt.plot(h1.history['val_accuracy'],\n",
        "        label = 'val_accuracy')\n",
        "\n",
        "plt.plot(h1.history['accuracy'],\n",
        "        label = 'accuracy')\n",
        "\n",
        "plt.legend()\n",
        "plt.grid()\n",
        "plt.show()"
      ],
      "metadata": {
        "colab": {
          "base_uri": "https://localhost:8080/",
          "height": 273
        },
        "id": "vT6Q5DdAn32m",
        "outputId": "5ed27402-e3a9-4036-d5ed-b48c198860dd"
      },
      "execution_count": 16,
      "outputs": [
        {
          "output_type": "display_data",
          "data": {
            "text/plain": [
              "<Figure size 1500x500 with 1 Axes>"
            ],
            "image/png": "[encoded data removed]"
          },
          "metadata": {}
        }
      ]
    },
    {
      "cell_type": "code",
      "source": [],
      "metadata": {
        "id": "AZr6PokooQhj"
      },
      "execution_count": null,
      "outputs": []
    },
    {
      "cell_type": "markdown",
      "source": [
        "## 학습데이터 양을 늘리자[방법1]\n"
      ],
      "metadata": {
        "id": "18nxba85od7r"
      }
    },
    {
      "cell_type": "code",
      "source": [
        "import tensorflow\n",
        "model2 = tf.keras.Sequential([\n",
        "    ## 이미지 증량\n",
        "    tf.keras.layers.experimental.preprocessing.RandomFlip('horizontal' , input_shape=(64,64,3)),\n",
        "    tf.keras.layers.experimental.preprocessing.RandomRotation(0.1),\n",
        "    tf.keras.layers.experimental.preprocessing.RandomZoom(0.1),\n",
        "    #####    \n",
        "    tf.keras.layers.Conv2D(32,(3,3), padding='same', activation = 'relu'),\n",
        "    tf.keras.layers.MaxPooling2D((2,2)),\n",
        "    tf.keras.layers.Conv2D(64,(3,3), padding='same', activation = 'relu'),\n",
        "    tf.keras.layers.MaxPooling2D((2,2)),    \n",
        "    tf.keras.layers.Dropout(0.2),\n",
        "    tf.keras.layers.Flatten(),\n",
        "    ## MLP\n",
        "    tf.keras.layers.Dense(64, activation='relu'),\n",
        "    tf.keras.layers.Dense(1, activation='sigmoid')      \n",
        "])"
      ],
      "metadata": {
        "id": "2DeO8qAPohx2"
      },
      "execution_count": 22,
      "outputs": []
    },
    {
      "cell_type": "markdown",
      "source": [
        "## 학습데이터 양을 늘리자[방법2]"
      ],
      "metadata": {
        "id": "qkYeknJ5rSl9"
      }
    },
    {
      "cell_type": "code",
      "source": [
        "from tensorflow.keras.preprocessing.image import ImageDataGenerator\n",
        "\n",
        "생성기 = ImageDataGenerator(\n",
        "    rescale = 1./ 255,\n",
        "    rotation_range = 20, #회전\n",
        "    zoom_range = 0.15, # 확대\n",
        "    width_shift_range=0.2, # 이동\n",
        "    height_shift_range=0.2, # 이동\n",
        "    shear_range = 0.15, # 굴절\n",
        "    horizontal_flip = True, # 가로 반전\n",
        "    fill_mode = 'nearest') # 이동시 공백 채울때\n",
        "## train, test\n",
        "트레이닝용 = 생성기.flow_from_directory(\n",
        "    '/content/dataset',\n",
        "    class_mode = 'binary',  # categorical  두개 이상이면 categorical\n",
        "    shuffle=True,\n",
        "    seed=123,\n",
        "    color_mode='rgb',\n",
        "    batch_size=64,\n",
        "    target_size=(64,64),    \n",
        ")\n",
        "\n",
        "생성기2 = ImageDataGenerator(rescale = 1./ 255)\n",
        "\n",
        "검증용 = 생성기2.flow_from_directory(\n",
        "    '/content/dataset',\n",
        "    class_mode = 'binary',  # categorical  두개 이상이면 categorical\n",
        "    shuffle=True,\n",
        "    seed=123,\n",
        "    color_mode='rgb',\n",
        "    batch_size=64,\n",
        "    target_size=(64,64),      \n",
        ")\n",
        "model.compile(loss='binary_crossentropy', optimizer='adam', metrics=['accuracy'])\n",
        "\n",
        "# trainingset = X_test,Y_test\n",
        "model.fit(트레이닝용, validation_data = 검증용, epochs=5)"
      ],
      "metadata": {
        "colab": {
          "base_uri": "https://localhost:8080/"
        },
        "id": "MAmUgG94qvPc",
        "outputId": "3091e930-d75f-457e-f029-1f11c3b16d0e"
      },
      "execution_count": 27,
      "outputs": [
        {
          "output_type": "stream",
          "name": "stdout",
          "text": [
            "Found 25000 images belonging to 2 classes.\n",
            "Found 25000 images belonging to 2 classes.\n",
            "Epoch 1/5\n",
            "391/391 [==============================] - 152s 386ms/step - loss: 0.9296 - accuracy: 0.5840 - val_loss: 0.6379 - val_accuracy: 0.6307\n",
            "Epoch 2/5\n",
            "391/391 [==============================] - 153s 391ms/step - loss: 0.6217 - accuracy: 0.6593 - val_loss: 0.5686 - val_accuracy: 0.7010\n",
            "Epoch 3/5\n",
            "391/391 [==============================] - 151s 386ms/step - loss: 0.5874 - accuracy: 0.6894 - val_loss: 0.5408 - val_accuracy: 0.7180\n",
            "Epoch 4/5\n",
            "391/391 [==============================] - 172s 439ms/step - loss: 0.5624 - accuracy: 0.7090 - val_loss: 0.5175 - val_accuracy: 0.7413\n",
            "Epoch 5/5\n",
            "391/391 [==============================] - 154s 393ms/step - loss: 0.5439 - accuracy: 0.7222 - val_loss: 0.4899 - val_accuracy: 0.7615\n"
          ]
        },
        {
          "output_type": "execute_result",
          "data": {
            "text/plain": [
              "<keras.callbacks.History at 0x7ff454587e20>"
            ]
          },
          "metadata": {},
          "execution_count": 27
        }
      ]
    },
    {
      "cell_type": "code",
      "source": [
        "## 모델저장\n",
        "model.save('/content/모델/model1')\n",
        "# h5, hdf5"
      ],
      "metadata": {
        "colab": {
          "base_uri": "https://localhost:8080/"
        },
        "id": "Lpql17Ah6alz",
        "outputId": "f3acfb57-c37c-4998-e5d1-2ffa4e651f9a"
      },
      "execution_count": 31,
      "outputs": [
        {
          "output_type": "stream",
          "name": "stderr",
          "text": [
            "WARNING:absl:Found untraced functions such as _jit_compiled_convolution_op, _jit_compiled_convolution_op while saving (showing 2 of 2). These functions will not be directly callable after loading.\n"
          ]
        }
      ]
    },
    {
      "cell_type": "markdown",
      "source": [
        "## W값만 저장하기"
      ],
      "metadata": {
        "id": "sdT6O1Re7a7b"
      }
    },
    {
      "cell_type": "code",
      "source": [
        "콜백함수 = tf.keras.callbacks.ModelCheckpoint(\n",
        "    filepath='체크포인트/chk_point',\n",
        "    save_weights_only= True,\n",
        "    save_freq='epoch'    \n",
        ")\n"
      ],
      "metadata": {
        "id": "IuCps64d7aKc"
      },
      "execution_count": 32,
      "outputs": []
    },
    {
      "cell_type": "code",
      "source": [
        "# 모델 불러오기\n",
        "save_model = tf.keras.models.load_model('/content/모델/model1')\n",
        "save_model.summary()"
      ],
      "metadata": {
        "colab": {
          "base_uri": "https://localhost:8080/"
        },
        "id": "_vSw5eTc8WHz",
        "outputId": "34813aa8-2305-4d3c-bf22-faa02a3723bc"
      },
      "execution_count": 33,
      "outputs": [
        {
          "output_type": "stream",
          "name": "stdout",
          "text": [
            "Model: \"sequential_1\"\n",
            "_________________________________________________________________\n",
            " Layer (type)                Output Shape              Param #   \n",
            "=================================================================\n",
            " conv2d_2 (Conv2D)           (None, 64, 64, 32)        896       \n",
            "                                                                 \n",
            " max_pooling2d_2 (MaxPooling  (None, 32, 32, 32)       0         \n",
            " 2D)                                                             \n",
            "                                                                 \n",
            " conv2d_3 (Conv2D)           (None, 32, 32, 64)        18496     \n",
            "                                                                 \n",
            " max_pooling2d_3 (MaxPooling  (None, 16, 16, 64)       0         \n",
            " 2D)                                                             \n",
            "                                                                 \n",
            " dropout_1 (Dropout)         (None, 16, 16, 64)        0         \n",
            "                                                                 \n",
            " flatten_1 (Flatten)         (None, 16384)             0         \n",
            "                                                                 \n",
            " dense_2 (Dense)             (None, 64)                1048640   \n",
            "                                                                 \n",
            " dense_3 (Dense)             (None, 1)                 65        \n",
            "                                                                 \n",
            "=================================================================\n",
            "Total params: 1,068,097\n",
            "Trainable params: 1,068,097\n",
            "Non-trainable params: 0\n",
            "_________________________________________________________________\n"
          ]
        }
      ]
    },
    {
      "cell_type": "code",
      "source": [
        "# evaluate[loss, accuracy]\n",
        "save_model.evaluate(검증용)[1]"
      ],
      "metadata": {
        "colab": {
          "base_uri": "https://localhost:8080/"
        },
        "id": "xWxk7s1V9ixj",
        "outputId": "830a37b2-860e-49a2-dba5-cd604100dc16"
      },
      "execution_count": 37,
      "outputs": [
        {
          "output_type": "stream",
          "name": "stdout",
          "text": [
            "391/391 [==============================] - 66s 169ms/step - loss: 0.4899 - accuracy: 0.7615\n"
          ]
        },
        {
          "output_type": "execute_result",
          "data": {
            "text/plain": [
              "0.7614799737930298"
            ]
          },
          "metadata": {},
          "execution_count": 37
        }
      ]
    },
    {
      "cell_type": "code",
      "source": [
        "'''\n",
        "dataset/cat\n",
        "dataset/dog\n",
        "val_dataset/cat\n",
        "val_dataset/dog\n",
        "'''\n",
        "\n",
        "import matplotlib.pyplot as plt\n",
        "plt.figure(figsize=(15,5))\n",
        "\n",
        "\n",
        "\n",
        "plt.plot(model.model.history['loss'],\n",
        "        label = 'loss')\n",
        "\n",
        "plt.legend()\n",
        "plt.grid()\n",
        "plt.show()\n"
      ],
      "metadata": {
        "colab": {
          "base_uri": "https://localhost:8080/",
          "height": 261
        },
        "id": "FjbACgPBrd0M",
        "outputId": "7ffb465b-2d95-46da-f558-80b3d1fea1ab"
      },
      "execution_count": 30,
      "outputs": [
        {
          "output_type": "error",
          "ename": "AttributeError",
          "evalue": "ignored",
          "traceback": [
            "\u001b[0;31m---------------------------------------------------------------------------\u001b[0m",
            "\u001b[0;31mAttributeError\u001b[0m                            Traceback (most recent call last)",
            "\u001b[0;32m<ipython-input-30-ae562484bede>\u001b[0m in \u001b[0;36m<cell line: 13>\u001b[0;34m()\u001b[0m\n\u001b[1;32m     11\u001b[0m \u001b[0;34m\u001b[0m\u001b[0m\n\u001b[1;32m     12\u001b[0m \u001b[0;34m\u001b[0m\u001b[0m\n\u001b[0;32m---> 13\u001b[0;31m plt.plot(model.model.history['loss'],\n\u001b[0m\u001b[1;32m     14\u001b[0m         label = 'loss')\n\u001b[1;32m     15\u001b[0m \u001b[0;34m\u001b[0m\u001b[0m\n",
            "\u001b[0;31mAttributeError\u001b[0m: 'Sequential' object has no attribute 'model'"
          ]
        },
        {
          "output_type": "display_data",
          "data": {
            "text/plain": [
              "<Figure size 1500x500 with 0 Axes>"
            ]
          },
          "metadata": {}
        }
      ]
    },
    {
      "cell_type": "code",
      "source": [],
      "metadata": {
        "id": "ZafKEFHi6ND-"
      },
      "execution_count": null,
      "outputs": []
    }
  ]
}